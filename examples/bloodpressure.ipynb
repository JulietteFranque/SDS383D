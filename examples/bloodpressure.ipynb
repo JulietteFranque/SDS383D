{
 "cells": [
  {
   "cell_type": "code",
   "execution_count": 83,
   "id": "0de87cc6",
   "metadata": {},
   "outputs": [],
   "source": [
    "import numpy as np\n",
    "import matplotlib.pyplot as plt\n",
    "import pandas as pd\n",
    "import matplotlib.style as style\n",
    "from matplotlib import cm\n",
    "style.use('seaborn')\n",
    "plt.rcParams.update({'axes.labelsize':16})\n",
    "plt.rcParams.update({'axes.titlesize':16})\n",
    "plt.rcParams.update({'legend.fontsize':16})\n",
    "plt.rcParams['xtick.labelsize'] = 16\n",
    "plt.rcParams['ytick.labelsize'] = 16\n",
    "plt.rcParams['lines.linewidth'] = 4\n",
    "from scipy import stats\n",
    "plt.rcParams[\"patch.force_edgecolor\"] = True"
   ]
  },
  {
   "cell_type": "code",
   "execution_count": 84,
   "id": "40917867",
   "metadata": {},
   "outputs": [
    {
     "data": {
      "text/html": [
       "<div>\n",
       "<style scoped>\n",
       "    .dataframe tbody tr th:only-of-type {\n",
       "        vertical-align: middle;\n",
       "    }\n",
       "\n",
       "    .dataframe tbody tr th {\n",
       "        vertical-align: top;\n",
       "    }\n",
       "\n",
       "    .dataframe thead th {\n",
       "        text-align: right;\n",
       "    }\n",
       "</style>\n",
       "<table border=\"1\" class=\"dataframe\">\n",
       "  <thead>\n",
       "    <tr style=\"text-align: right;\">\n",
       "      <th></th>\n",
       "      <th>date</th>\n",
       "      <th>systolic</th>\n",
       "      <th>subject</th>\n",
       "      <th>treatment</th>\n",
       "    </tr>\n",
       "  </thead>\n",
       "  <tbody>\n",
       "    <tr>\n",
       "      <th>0</th>\n",
       "      <td>2003-05-01</td>\n",
       "      <td>168</td>\n",
       "      <td>1</td>\n",
       "      <td>1</td>\n",
       "    </tr>\n",
       "    <tr>\n",
       "      <th>1</th>\n",
       "      <td>2003-05-02</td>\n",
       "      <td>165</td>\n",
       "      <td>1</td>\n",
       "      <td>1</td>\n",
       "    </tr>\n",
       "    <tr>\n",
       "      <th>2</th>\n",
       "      <td>2003-05-04</td>\n",
       "      <td>163</td>\n",
       "      <td>1</td>\n",
       "      <td>1</td>\n",
       "    </tr>\n",
       "    <tr>\n",
       "      <th>3</th>\n",
       "      <td>2003-05-05</td>\n",
       "      <td>166</td>\n",
       "      <td>1</td>\n",
       "      <td>1</td>\n",
       "    </tr>\n",
       "    <tr>\n",
       "      <th>4</th>\n",
       "      <td>2003-05-06</td>\n",
       "      <td>171</td>\n",
       "      <td>1</td>\n",
       "      <td>1</td>\n",
       "    </tr>\n",
       "    <tr>\n",
       "      <th>...</th>\n",
       "      <td>...</td>\n",
       "      <td>...</td>\n",
       "      <td>...</td>\n",
       "      <td>...</td>\n",
       "    </tr>\n",
       "    <tr>\n",
       "      <th>421</th>\n",
       "      <td>2003-05-22</td>\n",
       "      <td>132</td>\n",
       "      <td>20</td>\n",
       "      <td>2</td>\n",
       "    </tr>\n",
       "    <tr>\n",
       "      <th>422</th>\n",
       "      <td>2003-05-26</td>\n",
       "      <td>136</td>\n",
       "      <td>20</td>\n",
       "      <td>2</td>\n",
       "    </tr>\n",
       "    <tr>\n",
       "      <th>423</th>\n",
       "      <td>2003-05-28</td>\n",
       "      <td>128</td>\n",
       "      <td>20</td>\n",
       "      <td>2</td>\n",
       "    </tr>\n",
       "    <tr>\n",
       "      <th>424</th>\n",
       "      <td>2003-05-29</td>\n",
       "      <td>137</td>\n",
       "      <td>20</td>\n",
       "      <td>2</td>\n",
       "    </tr>\n",
       "    <tr>\n",
       "      <th>425</th>\n",
       "      <td>2003-05-30</td>\n",
       "      <td>137</td>\n",
       "      <td>20</td>\n",
       "      <td>2</td>\n",
       "    </tr>\n",
       "  </tbody>\n",
       "</table>\n",
       "<p>426 rows × 4 columns</p>\n",
       "</div>"
      ],
      "text/plain": [
       "           date  systolic  subject  treatment\n",
       "0    2003-05-01       168        1          1\n",
       "1    2003-05-02       165        1          1\n",
       "2    2003-05-04       163        1          1\n",
       "3    2003-05-05       166        1          1\n",
       "4    2003-05-06       171        1          1\n",
       "..          ...       ...      ...        ...\n",
       "421  2003-05-22       132       20          2\n",
       "422  2003-05-26       136       20          2\n",
       "423  2003-05-28       128       20          2\n",
       "424  2003-05-29       137       20          2\n",
       "425  2003-05-30       137       20          2\n",
       "\n",
       "[426 rows x 4 columns]"
      ]
     },
     "execution_count": 84,
     "metadata": {},
     "output_type": "execute_result"
    }
   ],
   "source": [
    "df = pd.read_csv('../data/bloodpressure.csv')\n",
    "df"
   ]
  },
  {
   "cell_type": "code",
   "execution_count": 14,
   "id": "dbf57c35",
   "metadata": {},
   "outputs": [
    {
     "data": {
      "text/plain": [
       "treatment\n",
       "1    142.454976\n",
       "2    132.986047\n",
       "Name: systolic, dtype: float64"
      ]
     },
     "execution_count": 14,
     "metadata": {},
     "output_type": "execute_result"
    }
   ],
   "source": [
    "means = df.groupby('treatment').mean()['systolic']\n",
    "means"
   ]
  },
  {
   "cell_type": "code",
   "execution_count": 41,
   "id": "a7adbf68",
   "metadata": {},
   "outputs": [],
   "source": [
    "groups = df.groupby('treatment')"
   ]
  },
  {
   "cell_type": "code",
   "execution_count": 42,
   "id": "2aa47ab7",
   "metadata": {},
   "outputs": [
    {
     "data": {
      "text/plain": [
       "Ttest_indResult(statistic=9.451231419610627, pvalue=2.29735313852906e-19)"
      ]
     },
     "execution_count": 42,
     "metadata": {},
     "output_type": "execute_result"
    }
   ],
   "source": [
    "stats.ttest_ind(groups.get_group(1)['systolic'], groups.get_group(2)['systolic'])"
   ]
  },
  {
   "cell_type": "code",
   "execution_count": 43,
   "id": "d293b716",
   "metadata": {},
   "outputs": [
    {
     "data": {
      "image/png": "[encoded data removed]",
      "text/plain": [
       "<Figure size 576x396 with 1 Axes>"
      ]
     },
     "metadata": {},
     "output_type": "display_data"
    }
   ],
   "source": [
    "plt.hist(df['systolic'], bins=30, density=True);"
   ]
  },
  {
   "cell_type": "code",
   "execution_count": 50,
   "id": "2be56580",
   "metadata": {},
   "outputs": [],
   "source": [
    "data_by_means = df.groupby('subject').mean().groupby('treatment')"
   ]
  },
  {
   "cell_type": "code",
   "execution_count": 57,
   "id": "b7510f1b",
   "metadata": {},
   "outputs": [
    {
     "data": {
      "text/plain": [
       "Ttest_indResult(statistic=1.6436975906457643, pvalue=0.11759102056930308)"
      ]
     },
     "execution_count": 57,
     "metadata": {},
     "output_type": "execute_result"
    }
   ],
   "source": [
    "stats.ttest_ind(data_by_means.get_group(1)['systolic'], data_by_means.get_group(2)['systolic'])\n"
   ]
  },
  {
   "cell_type": "code",
   "execution_count": 66,
   "id": "927eaff2",
   "metadata": {},
   "outputs": [],
   "source": [
    "means_per_subject = df.groupby('subject')['systolic'].mean()"
   ]
  },
  {
   "cell_type": "code",
   "execution_count": 81,
   "id": "aca0a11b",
   "metadata": {},
   "outputs": [],
   "source": [
    "se_per_subject = df.groupby('subject')['systolic'].std()"
   ]
  },
  {
   "cell_type": "code",
   "execution_count": 82,
   "id": "8f1b63f8",
   "metadata": {},
   "outputs": [
    {
     "data": {
      "image/png": "[encoded data removed]",
      "text/plain": [
       "<Figure size 576x396 with 1 Axes>"
      ]
     },
     "metadata": {},
     "output_type": "display_data"
    }
   ],
   "source": [
    "plt.hist(se_per_subject);"
   ]
  },
  {
   "cell_type": "code",
   "execution_count": 73,
   "id": "f861a55d",
   "metadata": {},
   "outputs": [
    {
     "data": {
      "text/plain": [
       "subject\n",
       "1     5.000000\n",
       "2     4.795832\n",
       "3     4.472136\n",
       "4     5.385165\n",
       "5     4.898979\n",
       "6     5.385165\n",
       "7     3.872983\n",
       "8     2.828427\n",
       "9     4.472136\n",
       "10    4.242641\n",
       "11    5.000000\n",
       "12    5.567764\n",
       "13    3.162278\n",
       "14    5.196152\n",
       "15    4.472136\n",
       "16    3.605551\n",
       "17    5.099020\n",
       "18    4.795832\n",
       "19    4.898979\n",
       "20    4.000000\n",
       "dtype: float64"
      ]
     },
     "execution_count": 73,
     "metadata": {},
     "output_type": "execute_result"
    }
   ],
   "source": []
  },
  {
   "cell_type": "code",
   "execution_count": null,
   "id": "b06199e8",
   "metadata": {},
   "outputs": [],
   "source": []
  }
 ],
 "metadata": {
  "kernelspec": {
   "display_name": "Python 3 (ipykernel)",
   "language": "python",
   "name": "python3"
  },
  "language_info": {
   "codemirror_mode": {
    "name": "ipython",
    "version": 3
   },
   "file_extension": ".py",
   "mimetype": "text/x-python",
   "name": "python",
   "nbconvert_exporter": "python",
   "pygments_lexer": "ipython3",
   "version": "3.8.5"
  }
 },
 "nbformat": 4,
 "nbformat_minor": 5
}
